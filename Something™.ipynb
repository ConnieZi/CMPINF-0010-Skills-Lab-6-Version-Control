{
 "cells": [
  {
   "cell_type": "code",
   "execution_count": 1,
   "metadata": {},
   "outputs": [],
   "source": [
    "name = input(\"Please enter your name:\")\n",
    "age = int(input(\"How old are you?\"))"
   ]
  },
  {
   "cell_type": "code",
   "execution_count": 2,
   "id": "e3b1c14a",
   "metadata": {},
   "outputs": [
    {
     "name": "stdout",
     "output_type": "stream",
     "text": [
      "My name is Kangying Zi\n",
      "My age is 22\n"
     ]
    }
   ],
   "source": [
    "print(f'My name is {name}')\n",
    "print(f'My age is {age}')"
   ]
  }
 ],
 "metadata": {
  "kernelspec": {
   "display_name": "base",
   "language": "python",
   "name": "python3"
  },
  "language_info": {
   "codemirror_mode": {
    "name": "ipython",
    "version": 3
   },
   "file_extension": ".py",
   "mimetype": "text/x-python",
   "name": "python",
   "nbconvert_exporter": "python",
   "pygments_lexer": "ipython3",
   "version": "3.9.13"
  },
  "vscode": {
   "interpreter": {
    "hash": "6fbea651ebc774b25efd1f5e65ea47dcbb3491ed276cc3ff883795b627db3370"
   }
  }
 },
 "nbformat": 4,
 "nbformat_minor": 5
}
